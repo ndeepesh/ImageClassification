{
 "cells": [
  {
   "cell_type": "markdown",
   "metadata": {
    "collapsed": true,
    "deletable": true,
    "editable": true
   },
   "source": [
    "# Image Classification\n",
    "In this project, you'll classify images from the [CIFAR-10 dataset](https://www.cs.toronto.edu/~kriz/cifar.html).  The dataset consists of airplanes, dogs, cats, and other objects. You'll preprocess the images, then train a convolutional neural network on all the samples. The images need to be normalized and the labels need to be one-hot encoded.  You'll get to apply what you learned and build a convolutional, max pooling, dropout, and fully connected layers.  At the end, you'll get to see your neural network's predictions on the sample images.\n",
    "## Get the Data\n",
    "Run the following cell to download the [CIFAR-10 dataset for python](https://www.cs.toronto.edu/~kriz/cifar-10-python.tar.gz)."
   ]
  },
  {
   "cell_type": "code",
   "execution_count": 1,
   "metadata": {
    "collapsed": false,
    "deletable": true,
    "editable": true
   },
   "outputs": [
    {
     "name": "stdout",
     "output_type": "stream",
     "text": [
      "All files found!\n"
     ]
    }
   ],
   "source": [
    "from urllib.request import urlretrieve\n",
    "from os.path import isfile, isdir\n",
    "from tqdm import tqdm\n",
    "import problem_unittests as tests\n",
    "import tarfile\n",
    "\n",
    "cifar10_dataset_folder_path = 'cifar-10-batches-py'\n",
    "\n",
    "# Use Floyd's cifar-10 dataset if present\n",
    "floyd_cifar10_location = '/input/cifar-10/python.tar.gz'\n",
    "if isfile(floyd_cifar10_location):\n",
    "    tar_gz_path = floyd_cifar10_location\n",
    "else:\n",
    "    tar_gz_path = 'cifar-10-python.tar.gz'\n",
    "\n",
    "class DLProgress(tqdm):\n",
    "    last_block = 0\n",
    "\n",
    "    def hook(self, block_num=1, block_size=1, total_size=None):\n",
    "        self.total = total_size\n",
    "        self.update((block_num - self.last_block) * block_size)\n",
    "        self.last_block = block_num\n",
    "\n",
    "if not isfile(tar_gz_path):\n",
    "    with DLProgress(unit='B', unit_scale=True, miniters=1, desc='CIFAR-10 Dataset') as pbar:\n",
    "        urlretrieve(\n",
    "            'https://www.cs.toronto.edu/~kriz/cifar-10-python.tar.gz',\n",
    "            tar_gz_path,\n",
    "            pbar.hook)\n",
    "\n",
    "if not isdir(cifar10_dataset_folder_path):\n",
    "    with tarfile.open(tar_gz_path) as tar:\n",
    "        tar.extractall()\n",
    "        tar.close()\n",
    "\n",
    "\n",
    "tests.test_folder_path(cifar10_dataset_folder_path)"
   ]
  },
  {
   "cell_type": "markdown",
   "metadata": {
    "deletable": true,
    "editable": true
   },
   "source": [
    "## Explore the Data\n",
    "The dataset is broken into batches to prevent your machine from running out of memory.  The CIFAR-10 dataset consists of 5 batches, named `data_batch_1`, `data_batch_2`, etc.. Each batch contains the labels and images that are one of the following:\n",
    "* airplane\n",
    "* automobile\n",
    "* bird\n",
    "* cat\n",
    "* deer\n",
    "* dog\n",
    "* frog\n",
    "* horse\n",
    "* ship\n",
    "* truck\n",
    "\n",
    "Understanding a dataset is part of making predictions on the data.  Play around with the code cell below by changing the `batch_id` and `sample_id`. The `batch_id` is the id for a batch (1-5). The `sample_id` is the id for a image and label pair in the batch.\n",
    "\n",
    "Ask yourself \"What are all possible labels?\", \"What is the range of values for the image data?\", \"Are the labels in order or random?\".  Answers to questions like these will help you preprocess the data and end up with better predictions."
   ]
  },
  {
   "cell_type": "code",
   "execution_count": 2,
   "metadata": {
    "collapsed": false,
    "deletable": true,
    "editable": true
   },
   "outputs": [
    {
     "name": "stdout",
     "output_type": "stream",
     "text": [
      "\n",
      "Stats of batch 5:\n",
      "Samples: 10000\n",
      "Label Counts: {0: 1014, 1: 1014, 2: 952, 3: 1016, 4: 997, 5: 1025, 6: 980, 7: 977, 8: 1003, 9: 1022}\n",
      "First 20 Labels: [1, 8, 5, 1, 5, 7, 4, 3, 8, 2, 7, 2, 0, 1, 5, 9, 6, 2, 0, 8]\n",
      "\n",
      "Example of Image 5:\n",
      "Image - Min Value: 1 Max Value: 255\n",
      "Image - Shape: (32, 32, 3)\n",
      "Label - Label Id: 7 Name: horse\n"
     ]
    },
    {
     "data": {
      "image/png": "[encoded data removed]",
      "text/plain": [
       "<matplotlib.figure.Figure at 0x7f4a4cfcc780>"
      ]
     },
     "metadata": {
      "image/png": {
       "height": 250,
       "width": 253
      }
     },
     "output_type": "display_data"
    }
   ],
   "source": [
    "%matplotlib inline\n",
    "%config InlineBackend.figure_format = 'retina'\n",
    "\n",
    "import helper\n",
    "import numpy as np\n",
    "\n",
    "# Explore the dataset\n",
    "batch_id = 5\n",
    "sample_id = 5\n",
    "helper.display_stats(cifar10_dataset_folder_path, batch_id, sample_id)"
   ]
  },
  {
   "cell_type": "markdown",
   "metadata": {
    "deletable": true,
    "editable": true
   },
   "source": [
    "## Implement Preprocess Functions\n",
    "### Normalize\n",
    "In the cell below, implement the `normalize` function to take in image data, `x`, and return it as a normalized Numpy array. The values should be in the range of 0 to 1, inclusive.  The return object should be the same shape as `x`."
   ]
  },
  {
   "cell_type": "code",
   "execution_count": 3,
   "metadata": {
    "collapsed": false,
    "deletable": true,
    "editable": true
   },
   "outputs": [
    {
     "name": "stdout",
     "output_type": "stream",
     "text": [
      "Tests Passed\n"
     ]
    }
   ],
   "source": [
    "def normalize(x):\n",
    "    \"\"\"\n",
    "    Normalize a list of sample image data in the range of 0 to 1\n",
    "    : x: List of image data.  The image shape is (32, 32, 3)\n",
    "    : return: Numpy array of normalize data\n",
    "    \"\"\"\n",
    "    return (x - np.min(x)) / (np.max(x) - np.min(x))\n",
    "\n",
    "tests.test_normalize(normalize)"
   ]
  },
  {
   "cell_type": "markdown",
   "metadata": {
    "deletable": true,
    "editable": true
   },
   "source": [
    "### One-hot encode\n",
    "Just like the previous code cell, you'll be implementing a function for preprocessing.  This time, you'll implement the `one_hot_encode` function. The input, `x`, are a list of labels.  Implement the function to return the list of labels as One-Hot encoded Numpy array.  The possible values for labels are 0 to 9. The one-hot encoding function should return the same encoding for each value between each call to `one_hot_encode`.  Make sure to save the map of encodings outside the function.\n",
    "\n",
    "Hint: Don't reinvent the wheel."
   ]
  },
  {
   "cell_type": "code",
   "execution_count": 4,
   "metadata": {
    "collapsed": false,
    "deletable": true,
    "editable": true
   },
   "outputs": [
    {
     "name": "stdout",
     "output_type": "stream",
     "text": [
      "Tests Passed\n"
     ]
    }
   ],
   "source": [
    "from sklearn import preprocessing\n",
    "lb = preprocessing.LabelBinarizer()\n",
    "lb.fit(range(10))\n",
    "\n",
    "def one_hot_encode(x):\n",
    "    \"\"\"\n",
    "    One hot encode a list of sample labels. Return a one-hot encoded vector for each label.\n",
    "    : x: List of sample Labels\n",
    "    : return: Numpy array of one-hot encoded labels\n",
    "    \"\"\"\n",
    "    return lb.transform(x)\n",
    "\n",
    "tests.test_one_hot_encode(one_hot_encode)"
   ]
  },
  {
   "cell_type": "markdown",
   "metadata": {
    "deletable": true,
    "editable": true
   },
   "source": [
    "### Randomize Data\n",
    "As you saw from exploring the data above, the order of the samples are randomized.  It doesn't hurt to randomize it again, but you don't need to for this dataset."
   ]
  },
  {
   "cell_type": "markdown",
   "metadata": {
    "deletable": true,
    "editable": true
   },
   "source": [
    "## Preprocess all the data and save it\n",
    "Running the code cell below will preprocess all the CIFAR-10 data and save it to file. The code below also uses 10% of the training data for validation."
   ]
  },
  {
   "cell_type": "code",
   "execution_count": 5,
   "metadata": {
    "collapsed": false,
    "deletable": true,
    "editable": true
   },
   "outputs": [],
   "source": [
    "# Preprocess Training, Validation, and Testing Data\n",
    "helper.preprocess_and_save_data(cifar10_dataset_folder_path, normalize, one_hot_encode)"
   ]
  },
  {
   "cell_type": "markdown",
   "metadata": {
    "deletable": true,
    "editable": true
   },
   "source": [
    "# Check Point\n",
    "This is your first checkpoint.  If you ever decide to come back to this notebook or have to restart the notebook, you can start from here.  The preprocessed data has been saved to disk."
   ]
  },
  {
   "cell_type": "code",
   "execution_count": 1,
   "metadata": {
    "collapsed": true,
    "deletable": true,
    "editable": true
   },
   "outputs": [],
   "source": [
    "import pickle\n",
    "import problem_unittests as tests\n",
    "import helper\n",
    "\n",
    "# Load the Preprocessed Validation data\n",
    "valid_features, valid_labels = pickle.load(open('preprocess_validation.p', mode='rb'))"
   ]
  },
  {
   "cell_type": "markdown",
   "metadata": {
    "deletable": true,
    "editable": true
   },
   "source": [
    "## Build the network\n",
    "For the neural network, you'll build each layer into a function.  Most of the code you've seen has been outside of functions. To test your code more thoroughly, we require that you put each layer in a function.  This allows us to give you better feedback and test for simple mistakes using our unittests before you submit your project.\n",
    "\n",
    ">**Note:** If you're finding it hard to dedicate enough time for this course each week, we've provided a small shortcut to this part of the project. In the next couple of problems, you'll have the option to use classes from the [TensorFlow Layers](https://www.tensorflow.org/api_docs/python/tf/layers) or [TensorFlow Layers (contrib)](https://www.tensorflow.org/api_guides/python/contrib.layers) packages to build each layer, except the layers you build in the \"Convolutional and Max Pooling Layer\" section.  TF Layers is similar to Keras's and TFLearn's abstraction to layers, so it's easy to pickup.\n",
    "\n",
    ">However, if you would like to get the most out of this course, try to solve all the problems _without_ using anything from the TF Layers packages. You **can** still use classes from other packages that happen to have the same name as ones you find in TF Layers! For example, instead of using the TF Layers version of the `conv2d` class, [tf.layers.conv2d](https://www.tensorflow.org/api_docs/python/tf/layers/conv2d), you would want to use the TF Neural Network version of `conv2d`, [tf.nn.conv2d](https://www.tensorflow.org/api_docs/python/tf/nn/conv2d). \n",
    "\n",
    "Let's begin!\n",
    "\n",
    "### Input\n",
    "The neural network needs to read the image data, one-hot encoded labels, and dropout keep probability. Implement the following functions\n",
    "* Implement `neural_net_image_input`\n",
    " * Return a [TF Placeholder](https://www.tensorflow.org/api_docs/python/tf/placeholder)\n",
    " * Set the shape using `image_shape` with batch size set to `None`.\n",
    " * Name the TensorFlow placeholder \"x\" using the TensorFlow `name` parameter in the [TF Placeholder](https://www.tensorflow.org/api_docs/python/tf/placeholder).\n",
    "* Implement `neural_net_label_input`\n",
    " * Return a [TF Placeholder](https://www.tensorflow.org/api_docs/python/tf/placeholder)\n",
    " * Set the shape using `n_classes` with batch size set to `None`.\n",
    " * Name the TensorFlow placeholder \"y\" using the TensorFlow `name` parameter in the [TF Placeholder](https://www.tensorflow.org/api_docs/python/tf/placeholder).\n",
    "* Implement `neural_net_keep_prob_input`\n",
    " * Return a [TF Placeholder](https://www.tensorflow.org/api_docs/python/tf/placeholder) for dropout keep probability.\n",
    " * Name the TensorFlow placeholder \"keep_prob\" using the TensorFlow `name` parameter in the [TF Placeholder](https://www.tensorflow.org/api_docs/python/tf/placeholder).\n",
    "\n",
    "These names will be used at the end of the project to load your saved model.\n",
    "\n",
    "Note: `None` for shapes in TensorFlow allow for a dynamic size."
   ]
  },
  {
   "cell_type": "code",
   "execution_count": 45,
   "metadata": {
    "collapsed": false,
    "deletable": true,
    "editable": true
   },
   "outputs": [
    {
     "name": "stdout",
     "output_type": "stream",
     "text": [
      "Image Input Tests Passed.\n",
      "Label Input Tests Passed.\n",
      "Keep Prob Tests Passed.\n"
     ]
    }
   ],
   "source": [
    "import tensorflow as tf\n",
    "import numpy as np\n",
    "\n",
    "def neural_net_image_input(image_shape):\n",
    "    \"\"\"\n",
    "    Return a Tensor for a batch of image input\n",
    "    : image_shape: Shape of the images\n",
    "    : return: Tensor for image input.\n",
    "    \"\"\"\n",
    "    return tf.placeholder(tf.float32, shape=(None, image_shape[0], image_shape[1], image_shape[2]), name='x')\n",
    "\n",
    "\n",
    "def neural_net_label_input(n_classes):\n",
    "    \"\"\"\n",
    "    Return a Tensor for a batch of label input\n",
    "    : n_classes: Number of classes\n",
    "    : return: Tensor for label input.\n",
    "    \"\"\"\n",
    "    return tf.placeholder(tf.float32, shape=(None, n_classes), name='y')\n",
    "\n",
    "\n",
    "def neural_net_keep_prob_input():\n",
    "    \"\"\"\n",
    "    Return a Tensor for keep probability\n",
    "    : return: Tensor for keep probability.\n",
    "    \"\"\"\n",
    "    return tf.placeholder(tf.float32, name='keep_prob')\n",
    "\n",
    "tf.reset_default_graph()\n",
    "tests.test_nn_image_inputs(neural_net_image_input)\n",
    "tests.test_nn_label_inputs(neural_net_label_input)\n",
    "tests.test_nn_keep_prob_inputs(neural_net_keep_prob_input)"
   ]
  },
  {
   "cell_type": "markdown",
   "metadata": {
    "deletable": true,
    "editable": true
   },
   "source": [
    "### Convolution and Max Pooling Layer\n",
    "Convolution layers have a lot of success with images. For this code cell, you should implement the function `conv2d_maxpool` to apply convolution then max pooling:\n",
    "* Create the weight and bias using `conv_ksize`, `conv_num_outputs` and the shape of `x_tensor`.\n",
    "* Apply a convolution to `x_tensor` using weight and `conv_strides`.\n",
    " * We recommend you use same padding, but you're welcome to use any padding.\n",
    "* Add bias\n",
    "* Add a nonlinear activation to the convolution.\n",
    "* Apply Max Pooling using `pool_ksize` and `pool_strides`.\n",
    " * We recommend you use same padding, but you're welcome to use any padding.\n",
    "\n",
    "**Note:** You **can't** use [TensorFlow Layers](https://www.tensorflow.org/api_docs/python/tf/layers) or [TensorFlow Layers (contrib)](https://www.tensorflow.org/api_guides/python/contrib.layers) for **this** layer, but you can still use TensorFlow's [Neural Network](https://www.tensorflow.org/api_docs/python/tf/nn) package. You may still use the shortcut option for all the **other** layers."
   ]
  },
  {
   "cell_type": "code",
   "execution_count": 3,
   "metadata": {
    "collapsed": false,
    "deletable": true,
    "editable": true
   },
   "outputs": [
    {
     "name": "stdout",
     "output_type": "stream",
     "text": [
      "Tests Passed\n"
     ]
    }
   ],
   "source": [
    "# TODO: Experiment with variations of Padding\n",
    "def conv2d_maxpool(x_tensor, conv_num_outputs, conv_ksize, conv_strides, pool_ksize, pool_strides):\n",
    "    \"\"\"\n",
    "    Apply convolution then max pooling to x_tensor\n",
    "    :param x_tensor: TensorFlow Tensor\n",
    "    :param conv_num_outputs: Number of outputs for the convolutional layer\n",
    "    :param conv_ksize: kernal size 2-D Tuple for the convolutional layer\n",
    "    :param conv_strides: Stride 2-D Tuple for convolution\n",
    "    :param pool_ksize: kernal size 2-D Tuple for pool\n",
    "    :param pool_strides: Stride 2-D Tuple for pool\n",
    "    : return: A tensor that represents convolution and max pooling of x_tensor\n",
    "    \"\"\"\n",
    "    batches, iW, iH, iD = x_tensor.get_shape().as_list()\n",
    "    fW, fH = conv_ksize\n",
    "    \n",
    "    weights = tf.Variable(tf.truncated_normal([fH, fW, iD, conv_num_outputs], dtype=tf.float32))\n",
    "    bias = tf.Variable(tf.zeros(conv_num_outputs, dtype=tf.float32))\n",
    "    \n",
    "    conv_layer = tf.nn.conv2d(x_tensor, weights, [1, conv_strides[0], conv_strides[1], 1], \"SAME\")\n",
    "    conv_layer = tf.nn.bias_add(conv_layer, bias)\n",
    "    conv_layer = tf.nn.relu(conv_layer)\n",
    "    \n",
    "    conv_layer = tf.nn.max_pool(conv_layer, [1, pool_ksize[0], pool_ksize[1], 1], [1, pool_strides[0], pool_strides[1], 1], \"SAME\")\n",
    "    return conv_layer\n",
    "\n",
    "tests.test_con_pool(conv2d_maxpool)\n",
    "\n",
    "def conv2d(x_tensor, conv_num_outputs, conv_ksize, conv_strides):\n",
    "    batches, iW, iH, iD = x_tensor.get_shape().as_list()\n",
    "    fW, fH = conv_ksize\n",
    "    \n",
    "    weights = tf.Variable(tf.truncated_normal([fH, fW, iD, conv_num_outputs], dtype=tf.float32))\n",
    "    bias = tf.Variable(tf.zeros(conv_num_outputs, dtype=tf.float32))\n",
    "    \n",
    "    conv_layer = tf.nn.conv2d(x_tensor, weights, [1, conv_strides[0], conv_strides[1], 1], \"SAME\")\n",
    "    conv_layer = tf.nn.bias_add(conv_layer, bias)\n",
    "    conv_layer = tf.nn.relu(conv_layer)\n",
    "\n",
    "    return conv_layer\n",
    "\n",
    "def maxpool(x_tensor, pool_ksize, pool_strides):\n",
    "    batches, iW, iH, iD = x_tensor.get_shape().as_list()\n",
    "    conv_layer = tf.nn.max_pool(x_tensor, [1, pool_ksize[0], pool_ksize[1], 1], [1, pool_strides[0], pool_strides[1], 1], \"SAME\")\n",
    "    return conv_layer\n",
    "    "
   ]
  },
  {
   "cell_type": "markdown",
   "metadata": {
    "deletable": true,
    "editable": true
   },
   "source": [
    "### Flatten Layer\n",
    "Implement the `flatten` function to change the dimension of `x_tensor` from a 4-D tensor to a 2-D tensor.  The output should be the shape (*Batch Size*, *Flattened Image Size*). Shortcut option: you can use classes from the [TensorFlow Layers](https://www.tensorflow.org/api_docs/python/tf/layers) or [TensorFlow Layers (contrib)](https://www.tensorflow.org/api_guides/python/contrib.layers) packages for this layer. For more of a challenge, only use other TensorFlow packages."
   ]
  },
  {
   "cell_type": "code",
   "execution_count": 165,
   "metadata": {
    "collapsed": false,
    "deletable": true,
    "editable": true
   },
   "outputs": [
    {
     "name": "stdout",
     "output_type": "stream",
     "text": [
      "Tests Passed\n"
     ]
    }
   ],
   "source": [
    "def flatten(x_tensor):\n",
    "    \"\"\"\n",
    "    Flatten x_tensor to (Batch Size, Flattened Image Size)\n",
    "    : x_tensor: A tensor of size (Batch Size, ...), where ... are the image dimensions.\n",
    "    : return: A tensor of size (Batch Size, Flattened Image Size).\n",
    "    \"\"\"\n",
    "    batches, iW, iH, iD = x_tensor.get_shape().as_list()\n",
    "    return tf.reshape(x_tensor, [-1, iW*iH*iD])\n",
    "\n",
    "tests.test_flatten(flatten)"
   ]
  },
  {
   "cell_type": "markdown",
   "metadata": {
    "deletable": true,
    "editable": true
   },
   "source": [
    "### Fully-Connected Layer\n",
    "Implement the `fully_conn` function to apply a fully connected layer to `x_tensor` with the shape (*Batch Size*, *num_outputs*). Shortcut option: you can use classes from the [TensorFlow Layers](https://www.tensorflow.org/api_docs/python/tf/layers) or [TensorFlow Layers (contrib)](https://www.tensorflow.org/api_guides/python/contrib.layers) packages for this layer. For more of a challenge, only use other TensorFlow packages."
   ]
  },
  {
   "cell_type": "code",
   "execution_count": 223,
   "metadata": {
    "collapsed": false,
    "deletable": true,
    "editable": true
   },
   "outputs": [
    {
     "name": "stdout",
     "output_type": "stream",
     "text": [
      "Tests Passed\n"
     ]
    }
   ],
   "source": [
    "def fully_conn(x_tensor, num_outputs):\n",
    "    \"\"\"\n",
    "    Apply a fully connected layer to x_tensor using weight and bias\n",
    "    : x_tensor: A 2-D tensor where the first dimension is batch size.\n",
    "    : num_outputs: The number of output that the new tensor should be.\n",
    "    : return: A 2-D tensor where the second dimension is num_outputs.\n",
    "    \"\"\"\n",
    "    batches, num_inputs = x_tensor.get_shape().as_list()\n",
    "    \n",
    "    weights = tf.Variable(tf.truncated_normal([num_inputs, num_outputs], stddev=0.01))\n",
    "    bias = tf.Variable(tf.truncated_normal([1, num_outputs]))\n",
    "    \n",
    "    fully_layer = tf.add(tf.matmul(x_tensor, weights), bias)\n",
    "    fully_layer = tf.nn.relu(fully_layer)\n",
    "    \n",
    "    return fully_layer\n",
    "    #return tf.contrib.layers.fully_connected(x_tensor, num_outputs)\n",
    "\n",
    "tests.test_fully_conn(fully_conn)"
   ]
  },
  {
   "cell_type": "markdown",
   "metadata": {
    "deletable": true,
    "editable": true
   },
   "source": [
    "### Output Layer\n",
    "Implement the `output` function to apply a fully connected layer to `x_tensor` with the shape (*Batch Size*, *num_outputs*). Shortcut option: you can use classes from the [TensorFlow Layers](https://www.tensorflow.org/api_docs/python/tf/layers) or [TensorFlow Layers (contrib)](https://www.tensorflow.org/api_guides/python/contrib.layers) packages for this layer. For more of a challenge, only use other TensorFlow packages.\n",
    "\n",
    "**Note:** Activation, softmax, or cross entropy should **not** be applied to this."
   ]
  },
  {
   "cell_type": "code",
   "execution_count": 224,
   "metadata": {
    "collapsed": false,
    "deletable": true,
    "editable": true
   },
   "outputs": [
    {
     "name": "stdout",
     "output_type": "stream",
     "text": [
      "Tests Passed\n"
     ]
    }
   ],
   "source": [
    "def output(x_tensor, num_outputs):\n",
    "    \"\"\"\n",
    "    Apply a output layer to x_tensor using weight and bias\n",
    "    : x_tensor: A 2-D tensor where the first dimension is batch size.\n",
    "    : num_outputs: The number of output that the new tensor should be.\n",
    "    : return: A 2-D tensor where the second dimension is num_outputs.\n",
    "    \"\"\"\n",
    "    batches, num_inputs = x_tensor.get_shape().as_list()\n",
    "    \n",
    "    weights = tf.Variable(tf.truncated_normal([num_inputs, num_outputs], stddev=0.01))\n",
    "    bias = tf.Variable(tf.truncated_normal([1, num_outputs]))\n",
    "    \n",
    "    output_layer = tf.add(tf.matmul(x_tensor, weights), bias)\n",
    "    #output_layer = tf.nn.softmax(output_layer)\n",
    "    \n",
    "    return output_layer\n",
    "    #return tf.contrib.layers.linear(x_tensor, num_outputs)\n",
    "    \n",
    "\n",
    "tests.test_output(output)"
   ]
  },
  {
   "cell_type": "markdown",
   "metadata": {
    "deletable": true,
    "editable": true
   },
   "source": [
    "### Create Convolutional Model\n",
    "Implement the function `conv_net` to create a convolutional neural network model. The function takes in a batch of images, `x`, and outputs logits.  Use the layers you created above to create this model:\n",
    "\n",
    "* Apply 1, 2, or 3 Convolution and Max Pool layers\n",
    "* Apply a Flatten Layer\n",
    "* Apply 1, 2, or 3 Fully Connected Layers\n",
    "* Apply an Output Layer\n",
    "* Return the output\n",
    "* Apply [TensorFlow's Dropout](https://www.tensorflow.org/api_docs/python/tf/nn/dropout) to one or more layers in the model using `keep_prob`. "
   ]
  },
  {
   "cell_type": "code",
   "execution_count": 271,
   "metadata": {
    "collapsed": false,
    "deletable": true,
    "editable": true
   },
   "outputs": [
    {
     "name": "stdout",
     "output_type": "stream",
     "text": [
      "Neural Network Built!\n"
     ]
    }
   ],
   "source": [
    "def conv_net(x, keep_prob):\n",
    "    \"\"\"\n",
    "    Create a convolutional neural network model\n",
    "    : x: Placeholder tensor that holds image data.\n",
    "    : keep_prob: Placeholder tensor that hold dropout keep probability.\n",
    "    : return: Tensor that represents logits\n",
    "    \"\"\"\n",
    "    \n",
    "    #x_tensor = conv2d(x, 16, (3, 3), (1, 1))\n",
    "    #x_tensor = conv2d(x_tensor, 32, (3, 3), (1, 1))\n",
    "    #x_tensor = maxpool(x_tensor, (2, 2), (2, 2))\n",
    "    #x_tensor = tf.nn.dropout(x_tensor, 0.2)\n",
    "    \n",
    "    #x_tensor = conv2d(x_tensor, 32, (3, 3), (1, 1))\n",
    "    #x_tensor = conv2d(x_tensor, 64, (3, 3), (1, 1))\n",
    "    #x_tensor = maxpool(x_tensor, (2, 2), (2, 2))\n",
    "    #x_tensor = tf.nn.dropout(x_tensor, 0.3)\n",
    "    \n",
    "    #x_tensor = conv2d(x_tensor, 128, (3, 3), (1, 1))\n",
    "    #x_tensor = conv2d(x_tensor, 128, (3, 3), (1, 1))\n",
    "    #x_tensor = maxpool(x_tensor, (2, 2), (2, 2))\n",
    "    #x_tensor = tf.nn.dropout(x_tensor, 0.4)\n",
    "    \n",
    "    #x_tensor = conv2d_maxpool(x, 16, (3, 3), (1, 1), (2, 2), (2, 2))\n",
    "    #x_tensor = conv2d_maxpool(x_tensor, 32, (3, 3), (1, 1), (2, 2), (2, 2))\n",
    "    #x_tensor = conv2d_maxpool(x_tensor, 64, (3, 3), (1, 1), (2, 2), (2, 2))\n",
    "    \n",
    "    '''\n",
    "    x_tensor = conv2d_maxpool(x, 24, (3, 3), (1, 1), (2, 2), (2, 2))\n",
    "    x_tensor = conv2d_maxpool(x_tensor, 12, (3, 3), (1, 1), (2, 2), (2, 2))\n",
    "    \n",
    "    x_tensor = flatten(x_tensor)\n",
    "    x_tensor = fully_conn(x_tensor, 1024)\n",
    "    x_tensor = tf.nn.dropout(x_tensor, keep_prob)\n",
    "    x_tensor = fully_conn(x_tensor, 512)\n",
    "    x_tensor = tf.nn.dropout(x_tensor, keep_prob)\n",
    "    \n",
    "    x_tensor = output(x_tensor, 10)\n",
    "    '''\n",
    "    x_tensor = conv2d_maxpool(x, 64, (3, 3), (1, 1), (2, 2), (2, 2))\n",
    "    x_tensor = conv2d_maxpool(x_tensor, 128, (3, 3), (1, 1), (2, 2), (2, 2))\n",
    "    #x_tensor = conv2d_maxpool(x_tensor, 128, (3, 3), (1, 1), (2, 2), (2, 2))\n",
    "    \n",
    "    x_tensor = flatten(x_tensor)\n",
    "    x_tensor = fully_conn(x_tensor, 1024)\n",
    "    x_tensor = tf.nn.dropout(x_tensor, keep_prob)\n",
    "    x_tensor = fully_conn(x_tensor, 512)\n",
    "    x_tensor = tf.nn.dropout(x_tensor, keep_prob)\n",
    "    \n",
    "    x_tensor = output(x_tensor, 10)\n",
    "    \n",
    "    return x_tensor\n",
    "\n",
    "\n",
    "##############################\n",
    "## Build the Neural Network ##\n",
    "##############################\n",
    "\n",
    "# Remove previous weights, bias, inputs, etc..\n",
    "tf.reset_default_graph()\n",
    "\n",
    "# Inputs\n",
    "x = neural_net_image_input((32, 32, 3))\n",
    "y = neural_net_label_input(10)\n",
    "keep_prob = neural_net_keep_prob_input()\n",
    "\n",
    "# Model\n",
    "logits = conv_net(x, keep_prob)\n",
    "\n",
    "# Name logits Tensor, so that is can be loaded from disk after training\n",
    "logits = tf.identity(logits, name='logits')\n",
    "\n",
    "# Loss and Optimizer\n",
    "cost = tf.reduce_mean(tf.nn.softmax_cross_entropy_with_logits(logits=logits, labels=y))\n",
    "optimizer = tf.train.AdamOptimizer().minimize(cost)\n",
    "\n",
    "# Accuracy\n",
    "correct_pred = tf.equal(tf.argmax(logits, 1), tf.argmax(y, 1))\n",
    "accuracy = tf.reduce_mean(tf.cast(correct_pred, tf.float32), name='accuracy')\n",
    "\n",
    "tests.test_conv_net(conv_net)"
   ]
  },
  {
   "cell_type": "markdown",
   "metadata": {
    "deletable": true,
    "editable": true
   },
   "source": [
    "## Train the Neural Network\n",
    "### Single Optimization\n",
    "Implement the function `train_neural_network` to do a single optimization.  The optimization should use `optimizer` to optimize in `session` with a `feed_dict` of the following:\n",
    "* `x` for image input\n",
    "* `y` for labels\n",
    "* `keep_prob` for keep probability for dropout\n",
    "\n",
    "This function will be called for each batch, so `tf.global_variables_initializer()` has already been called.\n",
    "\n",
    "Note: Nothing needs to be returned. This function is only optimizing the neural network."
   ]
  },
  {
   "cell_type": "code",
   "execution_count": 272,
   "metadata": {
    "collapsed": false,
    "deletable": true,
    "editable": true
   },
   "outputs": [
    {
     "name": "stdout",
     "output_type": "stream",
     "text": [
      "Tests Passed\n"
     ]
    }
   ],
   "source": [
    "def train_neural_network(session, optimizer, keep_probability, feature_batch, label_batch):\n",
    "    \"\"\"\n",
    "    Optimize the session on a batch of images and labels\n",
    "    : session: Current TensorFlow session\n",
    "    : optimizer: TensorFlow optimizer function\n",
    "    : keep_probability: keep probability\n",
    "    : feature_batch: Batch of Numpy image data\n",
    "    : label_batch: Batch of Numpy label data\n",
    "    \"\"\"\n",
    "    session.run(optimizer, feed_dict={x: feature_batch, y: label_batch, keep_prob: keep_probability})\n",
    "\n",
    "tests.test_train_nn(train_neural_network)"
   ]
  },
  {
   "cell_type": "markdown",
   "metadata": {
    "deletable": true,
    "editable": true
   },
   "source": [
    "### Show Stats\n",
    "Implement the function `print_stats` to print loss and validation accuracy.  Use the global variables `valid_features` and `valid_labels` to calculate validation accuracy.  Use a keep probability of `1.0` to calculate the loss and validation accuracy."
   ]
  },
  {
   "cell_type": "code",
   "execution_count": 273,
   "metadata": {
    "collapsed": false,
    "deletable": true,
    "editable": true
   },
   "outputs": [],
   "source": [
    "def print_stats(session, feature_batch, label_batch, cost, accuracy):\n",
    "    \"\"\"\n",
    "    Print information about loss and validation accuracy\n",
    "    : session: Current TensorFlow session\n",
    "    : feature_batch: Batch of Numpy image data\n",
    "    : label_batch: Batch of Numpy label data\n",
    "    : cost: TensorFlow cost function\n",
    "    : accuracy: TensorFlow accuracy function\n",
    "    \"\"\"\n",
    "    loss = session.run(cost, feed_dict={x: feature_batch, y: label_batch, keep_prob: 1.0})\n",
    "    valid_acc = session.run(accuracy, feed_dict={x: valid_features, y: valid_labels, keep_prob: 1.0})\n",
    "\n",
    "    print('Loss: {:>10.4f} Validation Accuracy: {:.6f}'.format(loss, valid_acc))"
   ]
  },
  {
   "cell_type": "markdown",
   "metadata": {
    "deletable": true,
    "editable": true
   },
   "source": [
    "### Hyperparameters\n",
    "Tune the following parameters:\n",
    "* Set `epochs` to the number of iterations until the network stops learning or start overfitting\n",
    "* Set `batch_size` to the highest number that your machine has memory for.  Most people set them to common sizes of memory:\n",
    " * 64\n",
    " * 128\n",
    " * 256\n",
    " * ...\n",
    "* Set `keep_probability` to the probability of keeping a node using dropout"
   ]
  },
  {
   "cell_type": "code",
   "execution_count": 277,
   "metadata": {
    "collapsed": true,
    "deletable": true,
    "editable": true
   },
   "outputs": [],
   "source": [
    "epochs = 30\n",
    "batch_size = 128\n",
    "keep_probability = 0.7"
   ]
  },
  {
   "cell_type": "markdown",
   "metadata": {
    "deletable": true,
    "editable": true
   },
   "source": [
    "### Train on a Single CIFAR-10 Batch\n",
    "Instead of training the neural network on all the CIFAR-10 batches of data, let's use a single batch. This should save time while you iterate on the model to get a better accuracy.  Once the final validation accuracy is 50% or greater, run the model on all the data in the next section."
   ]
  },
  {
   "cell_type": "code",
   "execution_count": 275,
   "metadata": {
    "collapsed": false,
    "deletable": true,
    "editable": true
   },
   "outputs": [
    {
     "name": "stdout",
     "output_type": "stream",
     "text": [
      "Checking the Training on a Single Batch...\n",
      "Epoch  1, CIFAR-10 Batch 1:  Loss:     2.1780 Validation Accuracy: 0.206800\n",
      "Epoch  2, CIFAR-10 Batch 1:  Loss:     1.9996 Validation Accuracy: 0.310200\n",
      "Epoch  3, CIFAR-10 Batch 1:  Loss:     1.9220 Validation Accuracy: 0.375000\n",
      "Epoch  4, CIFAR-10 Batch 1:  Loss:     1.7256 Validation Accuracy: 0.385800\n",
      "Epoch  5, CIFAR-10 Batch 1:  Loss:     1.6137 Validation Accuracy: 0.404600\n",
      "Epoch  6, CIFAR-10 Batch 1:  Loss:     1.4806 Validation Accuracy: 0.451200\n",
      "Epoch  7, CIFAR-10 Batch 1:  Loss:     1.3220 Validation Accuracy: 0.479400\n",
      "Epoch  8, CIFAR-10 Batch 1:  Loss:     1.1091 Validation Accuracy: 0.488000\n",
      "Epoch  9, CIFAR-10 Batch 1:  Loss:     1.1037 Validation Accuracy: 0.488400\n",
      "Epoch 10, CIFAR-10 Batch 1:  Loss:     1.0164 Validation Accuracy: 0.524200\n"
     ]
    }
   ],
   "source": [
    "import sys\n",
    "accuracies = []\n",
    "\n",
    "print('Checking the Training on a Single Batch...')\n",
    "with tf.Session() as sess:\n",
    "    # Initializing the variables\n",
    "    sess.run(tf.global_variables_initializer())\n",
    "    \n",
    "    # Training cycle\n",
    "    for epoch in range(epochs):\n",
    "        batch_i = 1\n",
    "        for batch_features, batch_labels in helper.load_preprocess_training_batch(batch_i, batch_size):\n",
    "            train_neural_network(sess, optimizer, keep_probability, batch_features, batch_labels)\n",
    "        print('Epoch {:>2}, CIFAR-10 Batch {}:  '.format(epoch + 1, batch_i), end='')\n",
    "        print_stats(sess, batch_features, batch_labels, cost, accuracy)"
   ]
  },
  {
   "cell_type": "markdown",
   "metadata": {
    "deletable": true,
    "editable": true
   },
   "source": [
    "### Fully Train the Model\n",
    "Now that you got a good accuracy with a single CIFAR-10 batch, try it with all five batches."
   ]
  },
  {
   "cell_type": "code",
   "execution_count": 278,
   "metadata": {
    "collapsed": false,
    "deletable": true,
    "editable": true
   },
   "outputs": [
    {
     "name": "stdout",
     "output_type": "stream",
     "text": [
      "Training...\n",
      "Epoch  1, CIFAR-10 Batch 1:  Loss:     2.2005 Validation Accuracy: 0.245000\n",
      "Epoch  1, CIFAR-10 Batch 2:  Loss:     1.8111 Validation Accuracy: 0.312000\n",
      "Epoch  1, CIFAR-10 Batch 3:  Loss:     1.6091 Validation Accuracy: 0.336800\n",
      "Epoch  1, CIFAR-10 Batch 4:  Loss:     1.6290 Validation Accuracy: 0.372400\n",
      "Epoch  1, CIFAR-10 Batch 5:  Loss:     1.5738 Validation Accuracy: 0.415600\n",
      "Epoch  2, CIFAR-10 Batch 1:  Loss:     1.7843 Validation Accuracy: 0.400000\n",
      "Epoch  2, CIFAR-10 Batch 2:  Loss:     1.5945 Validation Accuracy: 0.409000\n",
      "Epoch  2, CIFAR-10 Batch 3:  Loss:     1.4417 Validation Accuracy: 0.429400\n",
      "Epoch  2, CIFAR-10 Batch 4:  Loss:     1.4788 Validation Accuracy: 0.436800\n",
      "Epoch  2, CIFAR-10 Batch 5:  Loss:     1.4838 Validation Accuracy: 0.467800\n",
      "Epoch  3, CIFAR-10 Batch 1:  Loss:     1.4981 Validation Accuracy: 0.503800\n",
      "Epoch  3, CIFAR-10 Batch 2:  Loss:     1.3047 Validation Accuracy: 0.489200\n",
      "Epoch  3, CIFAR-10 Batch 3:  Loss:     1.2925 Validation Accuracy: 0.475600\n",
      "Epoch  3, CIFAR-10 Batch 4:  Loss:     1.2785 Validation Accuracy: 0.484600\n",
      "Epoch  3, CIFAR-10 Batch 5:  Loss:     1.2834 Validation Accuracy: 0.497600\n",
      "Epoch  4, CIFAR-10 Batch 1:  Loss:     1.4067 Validation Accuracy: 0.524200\n",
      "Epoch  4, CIFAR-10 Batch 2:  Loss:     1.2099 Validation Accuracy: 0.538400\n",
      "Epoch  4, CIFAR-10 Batch 3:  Loss:     1.0732 Validation Accuracy: 0.521600\n",
      "Epoch  4, CIFAR-10 Batch 4:  Loss:     1.1036 Validation Accuracy: 0.554200\n",
      "Epoch  4, CIFAR-10 Batch 5:  Loss:     1.1645 Validation Accuracy: 0.559400\n",
      "Epoch  5, CIFAR-10 Batch 1:  Loss:     1.3244 Validation Accuracy: 0.542000\n",
      "Epoch  5, CIFAR-10 Batch 2:  Loss:     1.0771 Validation Accuracy: 0.546200\n",
      "Epoch  5, CIFAR-10 Batch 3:  Loss:     0.9069 Validation Accuracy: 0.566800\n",
      "Epoch  5, CIFAR-10 Batch 4:  Loss:     0.9952 Validation Accuracy: 0.578800\n",
      "Epoch  5, CIFAR-10 Batch 5:  Loss:     1.0056 Validation Accuracy: 0.595800\n",
      "Epoch  6, CIFAR-10 Batch 1:  Loss:     1.2147 Validation Accuracy: 0.580600\n",
      "Epoch  6, CIFAR-10 Batch 2:  Loss:     0.9977 Validation Accuracy: 0.579200\n",
      "Epoch  6, CIFAR-10 Batch 3:  Loss:     0.8624 Validation Accuracy: 0.560600\n",
      "Epoch  6, CIFAR-10 Batch 4:  Loss:     0.9158 Validation Accuracy: 0.592800\n",
      "Epoch  6, CIFAR-10 Batch 5:  Loss:     0.9152 Validation Accuracy: 0.606600\n",
      "Epoch  7, CIFAR-10 Batch 1:  Loss:     1.0609 Validation Accuracy: 0.604200\n",
      "Epoch  7, CIFAR-10 Batch 2:  Loss:     0.8165 Validation Accuracy: 0.604400\n",
      "Epoch  7, CIFAR-10 Batch 3:  Loss:     0.6901 Validation Accuracy: 0.597200\n",
      "Epoch  7, CIFAR-10 Batch 4:  Loss:     0.8512 Validation Accuracy: 0.603200\n",
      "Epoch  7, CIFAR-10 Batch 5:  Loss:     0.7862 Validation Accuracy: 0.627400\n",
      "Epoch  8, CIFAR-10 Batch 1:  Loss:     0.9333 Validation Accuracy: 0.615400\n",
      "Epoch  8, CIFAR-10 Batch 2:  Loss:     0.7029 Validation Accuracy: 0.622800\n",
      "Epoch  8, CIFAR-10 Batch 3:  Loss:     0.5975 Validation Accuracy: 0.604200\n",
      "Epoch  8, CIFAR-10 Batch 4:  Loss:     0.7316 Validation Accuracy: 0.609000\n",
      "Epoch  8, CIFAR-10 Batch 5:  Loss:     0.7553 Validation Accuracy: 0.606200\n",
      "Epoch  9, CIFAR-10 Batch 1:  Loss:     0.8714 Validation Accuracy: 0.627400\n",
      "Epoch  9, CIFAR-10 Batch 2:  Loss:     0.6217 Validation Accuracy: 0.623200\n",
      "Epoch  9, CIFAR-10 Batch 3:  Loss:     0.5989 Validation Accuracy: 0.599200\n",
      "Epoch  9, CIFAR-10 Batch 4:  Loss:     0.6705 Validation Accuracy: 0.629200\n",
      "Epoch  9, CIFAR-10 Batch 5:  Loss:     0.6424 Validation Accuracy: 0.640000\n",
      "Epoch 10, CIFAR-10 Batch 1:  Loss:     0.7130 Validation Accuracy: 0.628200\n",
      "Epoch 10, CIFAR-10 Batch 2:  Loss:     0.5513 Validation Accuracy: 0.641600\n",
      "Epoch 10, CIFAR-10 Batch 3:  Loss:     0.4719 Validation Accuracy: 0.634000\n",
      "Epoch 10, CIFAR-10 Batch 4:  Loss:     0.6100 Validation Accuracy: 0.624000\n",
      "Epoch 10, CIFAR-10 Batch 5:  Loss:     0.4789 Validation Accuracy: 0.639000\n",
      "Epoch 11, CIFAR-10 Batch 1:  Loss:     0.6715 Validation Accuracy: 0.638400\n",
      "Epoch 11, CIFAR-10 Batch 2:  Loss:     0.4795 Validation Accuracy: 0.636800\n",
      "Epoch 11, CIFAR-10 Batch 3:  Loss:     0.4987 Validation Accuracy: 0.632200\n",
      "Epoch 11, CIFAR-10 Batch 4:  Loss:     0.6481 Validation Accuracy: 0.617200\n",
      "Epoch 11, CIFAR-10 Batch 5:  Loss:     0.5227 Validation Accuracy: 0.625800\n",
      "Epoch 12, CIFAR-10 Batch 1:  Loss:     0.8025 Validation Accuracy: 0.626000\n",
      "Epoch 12, CIFAR-10 Batch 2:  Loss:     0.4349 Validation Accuracy: 0.627200\n",
      "Epoch 12, CIFAR-10 Batch 3:  Loss:     0.4107 Validation Accuracy: 0.645000\n",
      "Epoch 12, CIFAR-10 Batch 4:  Loss:     0.5753 Validation Accuracy: 0.632400\n",
      "Epoch 12, CIFAR-10 Batch 5:  Loss:     0.3973 Validation Accuracy: 0.641800\n",
      "Epoch 13, CIFAR-10 Batch 1:  Loss:     0.6438 Validation Accuracy: 0.613200\n",
      "Epoch 13, CIFAR-10 Batch 2:  Loss:     0.3837 Validation Accuracy: 0.637600\n",
      "Epoch 13, CIFAR-10 Batch 3:  Loss:     0.4062 Validation Accuracy: 0.643800\n",
      "Epoch 13, CIFAR-10 Batch 4:  Loss:     0.5761 Validation Accuracy: 0.608000\n",
      "Epoch 13, CIFAR-10 Batch 5:  Loss:     0.4143 Validation Accuracy: 0.638000\n",
      "Epoch 14, CIFAR-10 Batch 1:  Loss:     0.5626 Validation Accuracy: 0.619800\n",
      "Epoch 14, CIFAR-10 Batch 2:  Loss:     0.3681 Validation Accuracy: 0.639000\n",
      "Epoch 14, CIFAR-10 Batch 3:  Loss:     0.3783 Validation Accuracy: 0.640200\n",
      "Epoch 14, CIFAR-10 Batch 4:  Loss:     0.4754 Validation Accuracy: 0.620400\n",
      "Epoch 14, CIFAR-10 Batch 5:  Loss:     0.3131 Validation Accuracy: 0.648400\n",
      "Epoch 15, CIFAR-10 Batch 1:  Loss:     0.5276 Validation Accuracy: 0.625000\n",
      "Epoch 15, CIFAR-10 Batch 2:  Loss:     0.3028 Validation Accuracy: 0.655200\n",
      "Epoch 15, CIFAR-10 Batch 3:  Loss:     0.3534 Validation Accuracy: 0.636200\n",
      "Epoch 15, CIFAR-10 Batch 4:  Loss:     0.4767 Validation Accuracy: 0.610200\n",
      "Epoch 15, CIFAR-10 Batch 5:  Loss:     0.2629 Validation Accuracy: 0.642200\n",
      "Epoch 16, CIFAR-10 Batch 1:  Loss:     0.4292 Validation Accuracy: 0.628600\n",
      "Epoch 16, CIFAR-10 Batch 2:  Loss:     0.3144 Validation Accuracy: 0.637000\n",
      "Epoch 16, CIFAR-10 Batch 3:  Loss:     0.3730 Validation Accuracy: 0.624800\n",
      "Epoch 16, CIFAR-10 Batch 4:  Loss:     0.4242 Validation Accuracy: 0.621000\n",
      "Epoch 16, CIFAR-10 Batch 5:  Loss:     0.2931 Validation Accuracy: 0.645400\n",
      "Epoch 17, CIFAR-10 Batch 1:  Loss:     0.4775 Validation Accuracy: 0.635800\n",
      "Epoch 17, CIFAR-10 Batch 2:  Loss:     0.2965 Validation Accuracy: 0.642200\n",
      "Epoch 17, CIFAR-10 Batch 3:  Loss:     0.3719 Validation Accuracy: 0.641000\n",
      "Epoch 17, CIFAR-10 Batch 4:  Loss:     0.3877 Validation Accuracy: 0.632000\n",
      "Epoch 17, CIFAR-10 Batch 5:  Loss:     0.3018 Validation Accuracy: 0.643000\n",
      "Epoch 18, CIFAR-10 Batch 1:  Loss:     0.4410 Validation Accuracy: 0.632000\n",
      "Epoch 18, CIFAR-10 Batch 2:  Loss:     0.2866 Validation Accuracy: 0.627600\n",
      "Epoch 18, CIFAR-10 Batch 3:  Loss:     0.3030 Validation Accuracy: 0.625800\n",
      "Epoch 18, CIFAR-10 Batch 4:  Loss:     0.4485 Validation Accuracy: 0.623600\n",
      "Epoch 18, CIFAR-10 Batch 5:  Loss:     0.2587 Validation Accuracy: 0.638400\n",
      "Epoch 19, CIFAR-10 Batch 1:  Loss:     0.4161 Validation Accuracy: 0.646400\n",
      "Epoch 19, CIFAR-10 Batch 2:  Loss:     0.2516 Validation Accuracy: 0.640000\n",
      "Epoch 19, CIFAR-10 Batch 3:  Loss:     0.3030 Validation Accuracy: 0.645200\n",
      "Epoch 19, CIFAR-10 Batch 4:  Loss:     0.3858 Validation Accuracy: 0.640600\n",
      "Epoch 19, CIFAR-10 Batch 5:  Loss:     0.2521 Validation Accuracy: 0.632000\n",
      "Epoch 20, CIFAR-10 Batch 1:  Loss:     0.3259 Validation Accuracy: 0.636800\n",
      "Epoch 20, CIFAR-10 Batch 2:  Loss:     0.1939 Validation Accuracy: 0.648600\n",
      "Epoch 20, CIFAR-10 Batch 3:  Loss:     0.2676 Validation Accuracy: 0.631400\n",
      "Epoch 20, CIFAR-10 Batch 4:  Loss:     0.3709 Validation Accuracy: 0.634800\n",
      "Epoch 20, CIFAR-10 Batch 5:  Loss:     0.2213 Validation Accuracy: 0.641400\n",
      "Epoch 21, CIFAR-10 Batch 1:  Loss:     0.3393 Validation Accuracy: 0.635400\n",
      "Epoch 21, CIFAR-10 Batch 2:  Loss:     0.2288 Validation Accuracy: 0.643600\n",
      "Epoch 21, CIFAR-10 Batch 3:  Loss:     0.2052 Validation Accuracy: 0.651200\n",
      "Epoch 21, CIFAR-10 Batch 4:  Loss:     0.2992 Validation Accuracy: 0.625600\n",
      "Epoch 21, CIFAR-10 Batch 5:  Loss:     0.2029 Validation Accuracy: 0.629800\n",
      "Epoch 22, CIFAR-10 Batch 1:  Loss:     0.3597 Validation Accuracy: 0.633000\n",
      "Epoch 22, CIFAR-10 Batch 2:  Loss:     0.1946 Validation Accuracy: 0.645000\n",
      "Epoch 22, CIFAR-10 Batch 3:  Loss:     0.2468 Validation Accuracy: 0.630800\n",
      "Epoch 22, CIFAR-10 Batch 4:  Loss:     0.2524 Validation Accuracy: 0.634600\n",
      "Epoch 22, CIFAR-10 Batch 5:  Loss:     0.1804 Validation Accuracy: 0.653400\n",
      "Epoch 23, CIFAR-10 Batch 1:  Loss:     0.3174 Validation Accuracy: 0.632600\n",
      "Epoch 23, CIFAR-10 Batch 2:  Loss:     0.1557 Validation Accuracy: 0.654000\n",
      "Epoch 23, CIFAR-10 Batch 3:  Loss:     0.2642 Validation Accuracy: 0.632200\n",
      "Epoch 23, CIFAR-10 Batch 4:  Loss:     0.2320 Validation Accuracy: 0.644600\n",
      "Epoch 23, CIFAR-10 Batch 5:  Loss:     0.1982 Validation Accuracy: 0.645600\n",
      "Epoch 24, CIFAR-10 Batch 1:  Loss:     0.3160 Validation Accuracy: 0.634400\n",
      "Epoch 24, CIFAR-10 Batch 2:  Loss:     0.2025 Validation Accuracy: 0.644600\n",
      "Epoch 24, CIFAR-10 Batch 3:  Loss:     0.2184 Validation Accuracy: 0.631400\n",
      "Epoch 24, CIFAR-10 Batch 4:  Loss:     0.2568 Validation Accuracy: 0.634000\n",
      "Epoch 24, CIFAR-10 Batch 5:  Loss:     0.1379 Validation Accuracy: 0.647400\n",
      "Epoch 25, CIFAR-10 Batch 1:  Loss:     0.3238 Validation Accuracy: 0.626600\n",
      "Epoch 25, CIFAR-10 Batch 2:  Loss:     0.1789 Validation Accuracy: 0.634400\n",
      "Epoch 25, CIFAR-10 Batch 3:  Loss:     0.2293 Validation Accuracy: 0.640400\n",
      "Epoch 25, CIFAR-10 Batch 4:  Loss:     0.1853 Validation Accuracy: 0.643800\n",
      "Epoch 25, CIFAR-10 Batch 5:  Loss:     0.1499 Validation Accuracy: 0.652200\n",
      "Epoch 26, CIFAR-10 Batch 1:  Loss:     0.3240 Validation Accuracy: 0.633200\n",
      "Epoch 26, CIFAR-10 Batch 2:  Loss:     0.1707 Validation Accuracy: 0.635800\n",
      "Epoch 26, CIFAR-10 Batch 3:  Loss:     0.2298 Validation Accuracy: 0.635600\n",
      "Epoch 26, CIFAR-10 Batch 4:  Loss:     0.1690 Validation Accuracy: 0.634200\n",
      "Epoch 26, CIFAR-10 Batch 5:  Loss:     0.1529 Validation Accuracy: 0.650400\n",
      "Epoch 27, CIFAR-10 Batch 1:  Loss:     0.3246 Validation Accuracy: 0.626200\n",
      "Epoch 27, CIFAR-10 Batch 2:  Loss:     0.1665 Validation Accuracy: 0.636800\n",
      "Epoch 27, CIFAR-10 Batch 3:  Loss:     0.1842 Validation Accuracy: 0.637600\n",
      "Epoch 27, CIFAR-10 Batch 4:  Loss:     0.3395 Validation Accuracy: 0.625000\n",
      "Epoch 27, CIFAR-10 Batch 5:  Loss:     0.1728 Validation Accuracy: 0.644000\n",
      "Epoch 28, CIFAR-10 Batch 1:  Loss:     0.3362 Validation Accuracy: 0.632600\n",
      "Epoch 28, CIFAR-10 Batch 2:  Loss:     0.1507 Validation Accuracy: 0.634000\n",
      "Epoch 28, CIFAR-10 Batch 3:  Loss:     0.1796 Validation Accuracy: 0.632600\n",
      "Epoch 28, CIFAR-10 Batch 4:  Loss:     0.1798 Validation Accuracy: 0.621400\n",
      "Epoch 28, CIFAR-10 Batch 5:  Loss:     0.1766 Validation Accuracy: 0.640800\n",
      "Epoch 29, CIFAR-10 Batch 1:  Loss:     0.2846 Validation Accuracy: 0.620600\n",
      "Epoch 29, CIFAR-10 Batch 2:  Loss:     0.1571 Validation Accuracy: 0.622600\n",
      "Epoch 29, CIFAR-10 Batch 3:  Loss:     0.1704 Validation Accuracy: 0.643200\n",
      "Epoch 29, CIFAR-10 Batch 4:  Loss:     0.2195 Validation Accuracy: 0.631200\n",
      "Epoch 29, CIFAR-10 Batch 5:  Loss:     0.1627 Validation Accuracy: 0.648000\n",
      "Epoch 30, CIFAR-10 Batch 1:  Loss:     0.3193 Validation Accuracy: 0.633200\n",
      "Epoch 30, CIFAR-10 Batch 2:  Loss:     0.1501 Validation Accuracy: 0.628200\n",
      "Epoch 30, CIFAR-10 Batch 3:  Loss:     0.1749 Validation Accuracy: 0.637600\n",
      "Epoch 30, CIFAR-10 Batch 4:  Loss:     0.1822 Validation Accuracy: 0.635600\n",
      "Epoch 30, CIFAR-10 Batch 5:  Loss:     0.4936 Validation Accuracy: 0.639400\n"
     ]
    }
   ],
   "source": [
    "save_model_path = './image_classification'\n",
    "\n",
    "print('Training...')\n",
    "with tf.Session() as sess:\n",
    "    # Initializing the variables\n",
    "    sess.run(tf.global_variables_initializer())\n",
    "    \n",
    "    # Training cycle\n",
    "    for epoch in range(epochs):\n",
    "        # Loop over all batches\n",
    "        n_batches = 5\n",
    "        for batch_i in range(1, n_batches + 1):\n",
    "            for batch_features, batch_labels in helper.load_preprocess_training_batch(batch_i, batch_size):\n",
    "                train_neural_network(sess, optimizer, keep_probability, batch_features, batch_labels)\n",
    "            print('Epoch {:>2}, CIFAR-10 Batch {}:  '.format(epoch + 1, batch_i), end='')\n",
    "            print_stats(sess, batch_features, batch_labels, cost, accuracy)\n",
    "            \n",
    "    # Save Model\n",
    "    saver = tf.train.Saver()\n",
    "    save_path = saver.save(sess, save_model_path)"
   ]
  },
  {
   "cell_type": "markdown",
   "metadata": {
    "deletable": true,
    "editable": true
   },
   "source": [
    "# Checkpoint\n",
    "The model has been saved to disk.\n",
    "## Test Model\n",
    "Test your model against the test dataset.  This will be your final accuracy. You should have an accuracy greater than 50%. If you don't, keep tweaking the model architecture and parameters."
   ]
  },
  {
   "cell_type": "code",
   "execution_count": 280,
   "metadata": {
    "collapsed": false,
    "deletable": true,
    "editable": true
   },
   "outputs": [
    {
     "name": "stdout",
     "output_type": "stream",
     "text": [
      "Testing Accuracy: 0.6416139240506329\n",
      "\n"
     ]
    },
    {
     "data": {
      "image/png": "[encoded data removed]",
      "text/plain": [
       "<matplotlib.figure.Figure at 0x7fdde3f44128>"
      ]
     },
     "metadata": {
      "image/png": {
       "height": 319,
       "width": 355
      }
     },
     "output_type": "display_data"
    }
   ],
   "source": [
    "%matplotlib inline\n",
    "%config InlineBackend.figure_format = 'retina'\n",
    "\n",
    "import tensorflow as tf\n",
    "import pickle\n",
    "import helper\n",
    "import random\n",
    "\n",
    "# Set batch size if not already set\n",
    "try:\n",
    "    if batch_size:\n",
    "        pass\n",
    "except NameError:\n",
    "    batch_size = 64\n",
    "\n",
    "save_model_path = './image_classification'\n",
    "n_samples = 4\n",
    "top_n_predictions = 3\n",
    "\n",
    "def test_model():\n",
    "    \"\"\"\n",
    "    Test the saved model against the test dataset\n",
    "    \"\"\"\n",
    "\n",
    "    test_features, test_labels = pickle.load(open('preprocess_test.p', mode='rb'))\n",
    "    loaded_graph = tf.Graph()\n",
    "\n",
    "    with tf.Session(graph=loaded_graph) as sess:\n",
    "        # Load model\n",
    "        loader = tf.train.import_meta_graph(save_model_path + '.meta')\n",
    "        loader.restore(sess, save_model_path)\n",
    "\n",
    "        # Get Tensors from loaded model\n",
    "        loaded_x = loaded_graph.get_tensor_by_name('x:0')\n",
    "        loaded_y = loaded_graph.get_tensor_by_name('y:0')\n",
    "        loaded_keep_prob = loaded_graph.get_tensor_by_name('keep_prob:0')\n",
    "        loaded_logits = loaded_graph.get_tensor_by_name('logits:0')\n",
    "        loaded_acc = loaded_graph.get_tensor_by_name('accuracy:0')\n",
    "        \n",
    "        # Get accuracy in batches for memory limitations\n",
    "        test_batch_acc_total = 0\n",
    "        test_batch_count = 0\n",
    "        \n",
    "        for test_feature_batch, test_label_batch in helper.batch_features_labels(test_features, test_labels, batch_size):\n",
    "            test_batch_acc_total += sess.run(\n",
    "                loaded_acc,\n",
    "                feed_dict={loaded_x: test_feature_batch, loaded_y: test_label_batch, loaded_keep_prob: 1.0})\n",
    "            test_batch_count += 1\n",
    "\n",
    "        print('Testing Accuracy: {}\\n'.format(test_batch_acc_total/test_batch_count))\n",
    "\n",
    "        # Print Random Samples\n",
    "        random_test_features, random_test_labels = tuple(zip(*random.sample(list(zip(test_features, test_labels)), n_samples)))\n",
    "        random_test_predictions = sess.run(\n",
    "            tf.nn.top_k(tf.nn.softmax(loaded_logits), top_n_predictions),\n",
    "            feed_dict={loaded_x: random_test_features, loaded_y: random_test_labels, loaded_keep_prob: 1.0})\n",
    "        helper.display_image_predictions(random_test_features, random_test_labels, random_test_predictions)\n",
    "\n",
    "\n",
    "test_model()"
   ]
  },
  {
   "cell_type": "markdown",
   "metadata": {
    "deletable": true,
    "editable": true
   },
   "source": [
    "## Why 50-80% Accuracy?\n",
    "You might be wondering why you can't get an accuracy any higher. First things first, 50% isn't bad for a simple CNN.  Pure guessing would get you 10% accuracy. However, you might notice people are getting scores [well above 80%](http://rodrigob.github.io/are_we_there_yet/build/classification_datasets_results.html#43494641522d3130).  That's because we haven't taught you all there is to know about neural networks. We still need to cover a few more techniques.\n",
    "## Submitting This Project\n",
    "When submitting this project, make sure to run all the cells before saving the notebook.  Save the notebook file as \"dlnd_image_classification.ipynb\" and save it as a HTML file under \"File\" -> \"Download as\".  Include the \"helper.py\" and \"problem_unittests.py\" files in your submission."
   ]
  }
 ],
 "metadata": {
  "kernelspec": {
   "display_name": "Python 2",
   "language": "python",
   "name": "python2"
  },
  "language_info": {
   "codemirror_mode": {
    "name": "ipython",
    "version": 2
   },
   "file_extension": ".py",
   "mimetype": "text/x-python",
   "name": "python",
   "nbconvert_exporter": "python",
   "pygments_lexer": "ipython2",
   "version": "2.7.13"
  }
 },
 "nbformat": 4,
 "nbformat_minor": 0
}
